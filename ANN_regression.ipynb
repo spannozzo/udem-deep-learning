{
  "nbformat": 4,
  "nbformat_minor": 0,
  "metadata": {
    "colab": {
      "provenance": [],
      "include_colab_link": true
    },
    "kernelspec": {
      "name": "python3",
      "display_name": "Python 3"
    }
  },
  "cells": [
    {
      "cell_type": "markdown",
      "metadata": {
        "id": "view-in-github",
        "colab_type": "text"
      },
      "source": [
        "<a href=\"https://colab.research.google.com/github/spannozzo/udemi-deep-learning/blob/main/ANN_regression.ipynb\" target=\"_parent\"><img src=\"https://colab.research.google.com/assets/colab-badge.svg\" alt=\"Open In Colab\"/></a>"
      ]
    },
    {
      "cell_type": "markdown",
      "metadata": {
        "id": "3cbb7fRy-eyr"
      },
      "source": [
        "# Artificial Neural Network"
      ]
    },
    {
      "cell_type": "markdown",
      "metadata": {
        "id": "8sNDnxE2-pwE"
      },
      "source": [
        "### Importing the libraries"
      ]
    },
    {
      "cell_type": "code",
      "metadata": {
        "id": "lxChR1Rk-umf"
      },
      "source": [
        "import numpy as np\n",
        "import pandas as pd\n",
        "import tensorflow as tf\n",
        "import matplotlib.pyplot as plt\n"
      ],
      "execution_count": 6,
      "outputs": []
    },
    {
      "cell_type": "code",
      "metadata": {
        "id": "uBTqR3nacj0e",
        "colab": {
          "base_uri": "https://localhost:8080/",
          "height": 35
        },
        "outputId": "7b47686a-a5c6-4fb1-bc03-a46136dbe3e9"
      },
      "source": [
        "tf.__version__"
      ],
      "execution_count": 7,
      "outputs": [
        {
          "output_type": "execute_result",
          "data": {
            "text/plain": [
              "'2.12.0'"
            ],
            "application/vnd.google.colaboratory.intrinsic+json": {
              "type": "string"
            }
          },
          "metadata": {},
          "execution_count": 7
        }
      ]
    },
    {
      "cell_type": "markdown",
      "metadata": {
        "id": "AG3FQEch-yuA"
      },
      "source": [
        "## Part 1 - Data Preprocessing"
      ]
    },
    {
      "cell_type": "markdown",
      "metadata": {
        "id": "-4zq8Mza_D9O"
      },
      "source": [
        "### Importing the dataset"
      ]
    },
    {
      "cell_type": "code",
      "source": [
        "!git clone https://github.com/spannozzo/udemi-deep-learning.git"
      ],
      "metadata": {
        "id": "jCSkdiNK69l9",
        "outputId": "b970c2f1-567b-4a11-b620-512c2fb2f456",
        "colab": {
          "base_uri": "https://localhost:8080/"
        }
      },
      "execution_count": 8,
      "outputs": [
        {
          "output_type": "stream",
          "name": "stdout",
          "text": [
            "fatal: destination path 'udemi-deep-learning' already exists and is not an empty directory.\n"
          ]
        }
      ]
    },
    {
      "cell_type": "code",
      "metadata": {
        "id": "B9CV13Co_HHM"
      },
      "source": [
        "dataset = pd.read_excel('/content/udemi-deep-learning/Folds5x2_pp.xlsx')\n",
        "X = dataset.iloc[:, :-1].values\n",
        "y = dataset.iloc[:, -1].values"
      ],
      "execution_count": 9,
      "outputs": []
    },
    {
      "cell_type": "code",
      "source": [
        "X[:5]"
      ],
      "metadata": {
        "id": "LU-YnioVUg0G",
        "outputId": "9caaddfa-cf6d-4c92-bf53-da39fb85535f",
        "colab": {
          "base_uri": "https://localhost:8080/"
        }
      },
      "execution_count": 10,
      "outputs": [
        {
          "output_type": "execute_result",
          "data": {
            "text/plain": [
              "array([[  14.96,   41.76, 1024.07,   73.17],\n",
              "       [  25.18,   62.96, 1020.04,   59.08],\n",
              "       [   5.11,   39.4 , 1012.16,   92.14],\n",
              "       [  20.86,   57.32, 1010.24,   76.64],\n",
              "       [  10.82,   37.5 , 1009.23,   96.62]])"
            ]
          },
          "metadata": {},
          "execution_count": 10
        }
      ]
    },
    {
      "cell_type": "markdown",
      "metadata": {
        "id": "VC6omXel_Up0"
      },
      "source": [
        "### Splitting the dataset into the Training set and Test set"
      ]
    },
    {
      "cell_type": "code",
      "metadata": {
        "id": "L5edeb2r_agx"
      },
      "source": [
        "from sklearn.model_selection import train_test_split\n",
        "X_train, X_test, y_train, y_test = train_test_split(X, y, test_size = 0.2, random_state = 0)\n",
        "\n"
      ],
      "execution_count": 11,
      "outputs": []
    },
    {
      "cell_type": "markdown",
      "metadata": {
        "id": "_mSLlAT9_eyI"
      },
      "source": [
        "## Part 2 - Building the ANN"
      ]
    },
    {
      "cell_type": "markdown",
      "metadata": {
        "id": "CsBULd_f_wLY"
      },
      "source": [
        "### Initializing the ANN"
      ]
    },
    {
      "cell_type": "code",
      "metadata": {
        "id": "J6Hd97Ls__Nz"
      },
      "source": [
        "ann = tf.keras.models.Sequential()"
      ],
      "execution_count": 12,
      "outputs": []
    },
    {
      "cell_type": "markdown",
      "metadata": {
        "id": "iitAFJS_ABUn"
      },
      "source": [
        "### Adding the input layer and the first hidden layer"
      ]
    },
    {
      "cell_type": "code",
      "metadata": {
        "id": "ksO_Vv40AHix"
      },
      "source": [
        "ann.add(tf.keras.layers.Dense(units=256, activation='relu'))"
      ],
      "execution_count": 13,
      "outputs": []
    },
    {
      "cell_type": "markdown",
      "metadata": {
        "id": "-lb4kK_wAKbs"
      },
      "source": [
        "### Adding the second hidden layer"
      ]
    },
    {
      "cell_type": "code",
      "metadata": {
        "id": "c2357OqEAQOQ"
      },
      "source": [
        "ann.add(tf.keras.layers.Dense(units=256, activation='relu'))"
      ],
      "execution_count": 14,
      "outputs": []
    },
    {
      "cell_type": "code",
      "source": [
        "ann.add(tf.keras.layers.Dense(units=256, activation='relu'))"
      ],
      "metadata": {
        "id": "lI8hLPFbA52A"
      },
      "execution_count": 15,
      "outputs": []
    },
    {
      "cell_type": "markdown",
      "metadata": {
        "id": "jwMOmKb3AdBY"
      },
      "source": [
        "### Adding the output layer"
      ]
    },
    {
      "cell_type": "code",
      "metadata": {
        "id": "YFATpzsUAkLL"
      },
      "source": [
        "ann.add(tf.keras.layers.Dense(units=1))"
      ],
      "execution_count": 16,
      "outputs": []
    },
    {
      "cell_type": "markdown",
      "metadata": {
        "id": "fq7e4fF6A1yy"
      },
      "source": [
        "## Part 3 - Training the ANN"
      ]
    },
    {
      "cell_type": "markdown",
      "metadata": {
        "id": "qDeylAs2An25"
      },
      "source": [
        "### Compiling the ANN"
      ]
    },
    {
      "cell_type": "code",
      "source": [
        "from tensorflow.keras.optimizers import Adam,SGD\n",
        "\n",
        "lr_schedule = tf.keras.optimizers.schedules.ExponentialDecay(\n",
        "    initial_learning_rate=0.0001,\n",
        "    decay_steps=10000,\n",
        "    decay_rate=0.09)\n",
        "\n",
        "sgd = SGD(learning_rate=lr_schedule)\n",
        "\n",
        "adam = Adam(learning_rate=0.001,\n",
        "    beta_1=0.9,\n",
        "    beta_2=0.999,\n",
        "    epsilon=1e-07,\n",
        "    amsgrad=False)\n"
      ],
      "metadata": {
        "id": "CRJRp4oIXqb-"
      },
      "execution_count": 17,
      "outputs": []
    },
    {
      "cell_type": "code",
      "metadata": {
        "id": "pesgbWlCAtB4"
      },
      "source": [
        "ann.compile(optimizer = adam, loss = 'mean_squared_error')"
      ],
      "execution_count": 18,
      "outputs": []
    },
    {
      "cell_type": "markdown",
      "metadata": {
        "id": "YjVuiybYOo7r"
      },
      "source": [
        "### Training the ANN model on the Training set"
      ]
    },
    {
      "cell_type": "code",
      "metadata": {
        "id": "c_vV-tiiA5zn",
        "colab": {
          "base_uri": "https://localhost:8080/"
        },
        "outputId": "35fbf5b1-88d7-4589-e4e1-9b3c4e2fd385"
      },
      "source": [
        "h = ann.fit(X_train, y_train, batch_size = 32, epochs = 50, validation_split=0.2)"
      ],
      "execution_count": 19,
      "outputs": [
        {
          "output_type": "stream",
          "name": "stdout",
          "text": [
            "Epoch 1/50\n",
            "192/192 [==============================] - 2s 6ms/step - loss: 3466.3982 - val_loss: 204.0951\n",
            "Epoch 2/50\n",
            "192/192 [==============================] - 1s 5ms/step - loss: 148.8025 - val_loss: 87.4280\n",
            "Epoch 3/50\n",
            "192/192 [==============================] - 1s 5ms/step - loss: 72.2403 - val_loss: 44.9942\n",
            "Epoch 4/50\n",
            "192/192 [==============================] - 1s 5ms/step - loss: 44.6038 - val_loss: 37.5749\n",
            "Epoch 5/50\n",
            "192/192 [==============================] - 1s 5ms/step - loss: 38.0645 - val_loss: 30.5793\n",
            "Epoch 6/50\n",
            "192/192 [==============================] - 1s 6ms/step - loss: 34.8689 - val_loss: 28.4242\n",
            "Epoch 7/50\n",
            "192/192 [==============================] - 1s 8ms/step - loss: 34.9100 - val_loss: 30.1121\n",
            "Epoch 8/50\n",
            "192/192 [==============================] - 1s 7ms/step - loss: 32.3447 - val_loss: 29.9957\n",
            "Epoch 9/50\n",
            "192/192 [==============================] - 1s 5ms/step - loss: 33.1063 - val_loss: 25.8804\n",
            "Epoch 10/50\n",
            "192/192 [==============================] - 1s 5ms/step - loss: 30.1318 - val_loss: 62.0820\n",
            "Epoch 11/50\n",
            "192/192 [==============================] - 1s 5ms/step - loss: 33.6553 - val_loss: 23.7656\n",
            "Epoch 12/50\n",
            "192/192 [==============================] - 1s 5ms/step - loss: 33.0287 - val_loss: 24.3811\n",
            "Epoch 13/50\n",
            "192/192 [==============================] - 1s 5ms/step - loss: 36.6420 - val_loss: 27.2085\n",
            "Epoch 14/50\n",
            "192/192 [==============================] - 1s 5ms/step - loss: 30.5587 - val_loss: 24.2127\n",
            "Epoch 15/50\n",
            "192/192 [==============================] - 1s 5ms/step - loss: 35.5446 - val_loss: 30.4645\n",
            "Epoch 16/50\n",
            "192/192 [==============================] - 1s 5ms/step - loss: 37.9857 - val_loss: 22.7293\n",
            "Epoch 17/50\n",
            "192/192 [==============================] - 1s 5ms/step - loss: 34.6011 - val_loss: 68.8366\n",
            "Epoch 18/50\n",
            "192/192 [==============================] - 1s 5ms/step - loss: 36.2596 - val_loss: 23.6795\n",
            "Epoch 19/50\n",
            "192/192 [==============================] - 1s 7ms/step - loss: 31.0594 - val_loss: 23.3872\n",
            "Epoch 20/50\n",
            "192/192 [==============================] - 1s 8ms/step - loss: 32.4260 - val_loss: 41.0876\n",
            "Epoch 21/50\n",
            "192/192 [==============================] - 1s 5ms/step - loss: 36.3633 - val_loss: 32.4387\n",
            "Epoch 22/50\n",
            "192/192 [==============================] - 1s 5ms/step - loss: 33.6837 - val_loss: 24.1976\n",
            "Epoch 23/50\n",
            "192/192 [==============================] - 1s 5ms/step - loss: 32.6689 - val_loss: 145.4741\n",
            "Epoch 24/50\n",
            "192/192 [==============================] - 1s 5ms/step - loss: 43.7664 - val_loss: 36.6254\n",
            "Epoch 25/50\n",
            "192/192 [==============================] - 1s 5ms/step - loss: 31.0647 - val_loss: 34.5555\n",
            "Epoch 26/50\n",
            "192/192 [==============================] - 1s 5ms/step - loss: 36.7015 - val_loss: 22.5202\n",
            "Epoch 27/50\n",
            "192/192 [==============================] - 1s 5ms/step - loss: 35.6793 - val_loss: 25.9614\n",
            "Epoch 28/50\n",
            "192/192 [==============================] - 1s 5ms/step - loss: 35.7139 - val_loss: 62.7716\n",
            "Epoch 29/50\n",
            "192/192 [==============================] - 1s 5ms/step - loss: 36.8531 - val_loss: 39.7946\n",
            "Epoch 30/50\n",
            "192/192 [==============================] - 1s 5ms/step - loss: 37.1946 - val_loss: 35.2720\n",
            "Epoch 31/50\n",
            "192/192 [==============================] - 1s 7ms/step - loss: 36.4372 - val_loss: 23.7440\n",
            "Epoch 32/50\n",
            "192/192 [==============================] - 1s 8ms/step - loss: 31.6416 - val_loss: 24.1820\n",
            "Epoch 33/50\n",
            "192/192 [==============================] - 1s 6ms/step - loss: 36.1977 - val_loss: 25.5079\n",
            "Epoch 34/50\n",
            "192/192 [==============================] - 1s 5ms/step - loss: 34.8445 - val_loss: 55.4121\n",
            "Epoch 35/50\n",
            "192/192 [==============================] - 1s 5ms/step - loss: 31.1833 - val_loss: 36.3157\n",
            "Epoch 36/50\n",
            "192/192 [==============================] - 1s 5ms/step - loss: 37.2560 - val_loss: 45.5581\n",
            "Epoch 37/50\n",
            "192/192 [==============================] - 1s 5ms/step - loss: 36.2664 - val_loss: 22.7532\n",
            "Epoch 38/50\n",
            "192/192 [==============================] - 1s 5ms/step - loss: 30.2138 - val_loss: 27.8943\n",
            "Epoch 39/50\n",
            "192/192 [==============================] - 1s 5ms/step - loss: 28.2186 - val_loss: 22.3158\n",
            "Epoch 40/50\n",
            "192/192 [==============================] - 1s 5ms/step - loss: 38.2064 - val_loss: 29.9863\n",
            "Epoch 41/50\n",
            "192/192 [==============================] - 1s 5ms/step - loss: 32.1608 - val_loss: 22.8871\n",
            "Epoch 42/50\n",
            "192/192 [==============================] - 1s 5ms/step - loss: 31.2535 - val_loss: 22.8221\n",
            "Epoch 43/50\n",
            "192/192 [==============================] - 1s 6ms/step - loss: 29.9351 - val_loss: 25.6336\n",
            "Epoch 44/50\n",
            "192/192 [==============================] - 2s 8ms/step - loss: 34.8688 - val_loss: 39.4043\n",
            "Epoch 45/50\n",
            "192/192 [==============================] - 1s 7ms/step - loss: 29.7285 - val_loss: 24.9042\n",
            "Epoch 46/50\n",
            "192/192 [==============================] - 1s 5ms/step - loss: 31.7549 - val_loss: 23.0154\n",
            "Epoch 47/50\n",
            "192/192 [==============================] - 1s 5ms/step - loss: 36.5833 - val_loss: 22.3784\n",
            "Epoch 48/50\n",
            "192/192 [==============================] - 1s 5ms/step - loss: 31.5538 - val_loss: 39.2386\n",
            "Epoch 49/50\n",
            "192/192 [==============================] - 1s 5ms/step - loss: 32.6707 - val_loss: 23.4578\n",
            "Epoch 50/50\n",
            "192/192 [==============================] - 1s 5ms/step - loss: 29.9244 - val_loss: 32.2917\n"
          ]
        }
      ]
    },
    {
      "cell_type": "code",
      "source": [
        "plt.plot(h.history['loss'])\n",
        "plt.plot(h.history['val_loss'])\n",
        "plt.title('model loss')\n",
        "plt.ylabel('loss')\n",
        "plt.xlabel('epoch')\n",
        "plt.legend(['train', 'validation'], loc='upper left')\n",
        "plt.show()"
      ],
      "metadata": {
        "id": "ZuiaBpyvWJXz",
        "outputId": "59a6f285-e820-4e86-dc5a-9be361cecb94",
        "colab": {
          "base_uri": "https://localhost:8080/",
          "height": 472
        }
      },
      "execution_count": 20,
      "outputs": [
        {
          "output_type": "display_data",
          "data": {
            "text/plain": [
              "<Figure size 640x480 with 1 Axes>"
            ],
            "image/png": "[encoded data removed]"
          },
          "metadata": {}
        }
      ]
    },
    {
      "cell_type": "markdown",
      "metadata": {
        "id": "0H0zKKNEBLD5"
      },
      "source": [
        "### Predicting the results of the Test set"
      ]
    },
    {
      "cell_type": "code",
      "metadata": {
        "id": "IA0yApEmBG1X",
        "colab": {
          "base_uri": "https://localhost:8080/"
        },
        "outputId": "7a06851b-0f65-4328-dd69-64bd3d5ff56e"
      },
      "source": [
        "y_pred = ann.predict(X_test)\n",
        "np.set_printoptions(precision=2)\n",
        "print(np.concatenate((y_pred.reshape(len(y_pred),1), y_test.reshape(len(y_test),1)),1))"
      ],
      "execution_count": 21,
      "outputs": [
        {
          "output_type": "stream",
          "name": "stdout",
          "text": [
            "60/60 [==============================] - 0s 2ms/step\n",
            "[[429.9  431.23]\n",
            " [457.81 460.01]\n",
            " [464.21 461.14]\n",
            " ...\n",
            " [470.9  473.26]\n",
            " [436.53 438.  ]\n",
            " [454.93 463.28]]\n"
          ]
        }
      ]
    }
  ]
}